{
 "cells": [
  {
   "cell_type": "code",
   "execution_count": 1,
   "metadata": {},
   "outputs": [],
   "source": [
    "# import Dependencies\n",
    "from selenium import webdriver\n",
    "from selenium.webdriver.common.by import By\n",
    "from selenium.webdriver.common.action_chains import ActionChains\n",
    "from selenium.webdriver.chrome.service import Service as ChromeService\n",
    "from webdriver_manager.chrome import ChromeDriverManager\n",
    "from time import sleep"
   ]
  },
  {
   "cell_type": "code",
   "execution_count": 2,
   "metadata": {},
   "outputs": [],
   "source": [
    "def generating_browser():\n",
    "    chrome_options = webdriver.ChromeOptions()\n",
    "    set_arg = chrome_options.add_argument\n",
    "    set_experiment = chrome_options.add_experimental_option\n",
    "    chrome_options.add_argument(\"--remote-allow-origins=*\")\n",
    "\n",
    "    # set options to make browser easier\n",
    "    set_arg('disable-infobars') # disable infobar popus\n",
    "    # set_arg('start-maximized') # start selenium in a maximized window\n",
    "    set_arg('disable-dev-shm-usage') # disable developer mode error for linux and mac only\n",
    "    set_arg('no-sandbox') # disable security sandbox layer **important\n",
    "    set_arg('disable-blink-features=AutomationControlled') # disable detection of automation test\n",
    "    set_experiment('excludeSwitches', ['enable-automation']) # for allowing the automation\n",
    "\n",
    "    # disable password saving popup and location sharing\n",
    "    prefs = {\"credentials_enable_service\": False,\n",
    "     \"profile.password_manager_enabled\": False,\n",
    "     \"profile.default_content_setting_values.geolocation\" :2}\n",
    "    set_experiment(\"prefs\", prefs)\n",
    "\n",
    "    driver = webdriver.Chrome(service=ChromeService(ChromeDriverManager().install()),options=chrome_options)\n",
    "    return driver"
   ]
  },
  {
   "cell_type": "code",
   "execution_count": 3,
   "metadata": {},
   "outputs": [],
   "source": [
    "url = \"https://www.youtube.com/@5MinuteCraftsYouTube/videos\""
   ]
  },
  {
   "cell_type": "code",
   "execution_count": 4,
   "metadata": {},
   "outputs": [],
   "source": [
    "fox_driver = generating_browser()\n",
    "fox_driver.get(url)\n",
    "fox_driver.maximize_window()"
   ]
  },
  {
   "attachments": {},
   "cell_type": "markdown",
   "metadata": {},
   "source": [
    "### Content selector\n",
    "\n",
    "grid_selector = `div#meta.ytd-rich-grid-media`\n",
    "\n",
    "vid_link = `ytd-rich-grid-media.style-scope.ytd-rich-item-renderer div ytd-thumbnail a`\n",
    "\n",
    "vid_heading = `ytd-rich-grid-media.style-scope.ytd-rich-item-renderer div#details h3`\n",
    "\n",
    "vid_views =`//div[@id = \"metadata-line\"]//span[1]`\n",
    "\n",
    "vid_upload_time =`//div[@id = \"metadata-line\"]//span[2]`\n",
    "\n"
   ]
  },
  {
   "cell_type": "code",
   "execution_count": 5,
   "metadata": {},
   "outputs": [],
   "source": [
    "def pageLoader():\n",
    "    # Scrolling down to the whole plage\n",
    "    scroll_Pause_time = 1\n",
    "    # Get page scroll height\n",
    "    last_height = fox_driver.execute_script(\"return document.body.scrollHeight\")\n",
    "    while True:\n",
    "        # Scroll down to bottom\n",
    "        fox_driver.execute_script(\"window.scrollTo(0, arguments[0]);\", last_height)\n",
    "        # wait to load the page\n",
    "        sleep(10)\n",
    "        # compare new scroll height to last scroll height to break the loop\n",
    "        new_height = fox_driver.execute_script(\"return document.documentElement.scrollHeight\")\n",
    "        if new_height == last_height:\n",
    "            break\n",
    "        last_height = new_height\n",
    "    loading_report = 'Page Loading Done, starting to scrape data'\n",
    "    print(loading_report)"
   ]
  },
  {
   "cell_type": "code",
   "execution_count": 6,
   "metadata": {},
   "outputs": [],
   "source": [
    "\n",
    "videos_details = []\n",
    "def getData():\n",
    "\n",
    "   grid_selector = fox_driver.find_elements(By.CSS_SELECTOR, \"div#meta.ytd-rich-grid-media\")\n",
    "   for video in grid_selector:\n",
    "      video_heading = video.find_element(By.CSS_SELECTOR, \"h3 a yt-formatted-string\").text\n",
    "      video_views = video.find_element(By.CSS_SELECTOR, \"div#metadata-line > span:nth-child(3)\").text\n",
    "      video_uploaded_time = video.find_element(By.CSS_SELECTOR, \"div#metadata-line > span:nth-child(4)\").text\n",
    "      video_link = video.find_element(By.CSS_SELECTOR, \"h3 a\").get_attribute(\"href\")\n",
    "      video_info ={\n",
    "         'Video Heading': video_heading,\n",
    "         'Total Views': video_views,\n",
    "         'Video Uploaded':  video_uploaded_time,\n",
    "         'Video Link': video_link\n",
    "      }\n",
    "      videos_details.append(video_info)\n",
    "\n",
    "\n"
   ]
  },
  {
   "cell_type": "code",
   "execution_count": 7,
   "metadata": {},
   "outputs": [
    {
     "name": "stdout",
     "output_type": "stream",
     "text": [
      "Page Loading Done, starting to scrape data\n"
     ]
    }
   ],
   "source": [
    "pageLoader()"
   ]
  },
  {
   "cell_type": "code",
   "execution_count": 8,
   "metadata": {},
   "outputs": [
    {
     "data": {
      "text/plain": [
       "5914"
      ]
     },
     "execution_count": 8,
     "metadata": {},
     "output_type": "execute_result"
    }
   ],
   "source": [
    "getData()\n",
    "len(videos_details)"
   ]
  },
  {
   "cell_type": "code",
   "execution_count": 9,
   "metadata": {},
   "outputs": [
    {
     "data": {
      "text/plain": [
       "{'Video Heading': 'PRINCESS GETS READY FOR SCHOOL ✨ Magical DIY Ideas For Parents',\n",
       " 'Total Views': '12K views',\n",
       " 'Video Uploaded': '2 hours ago',\n",
       " 'Video Link': 'https://www.youtube.com/watch?v=f95bJYP3Qew'}"
      ]
     },
     "execution_count": 9,
     "metadata": {},
     "output_type": "execute_result"
    }
   ],
   "source": [
    "videos_details[0]"
   ]
  },
  {
   "cell_type": "code",
   "execution_count": 10,
   "metadata": {},
   "outputs": [],
   "source": [
    "import csv\n",
    "\n",
    "def saveToCSV():\n",
    "    file_name = input(\"Enter you file name: \")\n",
    "    with open(f\"./data/{file_name}.csv\", mode=\"a\", encoding=\"utf-8\") as file:\n",
    "        field_names = [\"Video Heading\", \"Total Views\", \"Video Uploaded\", \"Video Link\"]\n",
    "        csv_writer = csv.DictWriter(file, fieldnames=field_names)\n",
    "        csv_writer.writeheader()\n",
    "        for video in videos_details:\n",
    "            csv_writer.writerow(video)\n",
    "    print('Your Datas Have been Extracted to csv.')\n"
   ]
  },
  {
   "cell_type": "code",
   "execution_count": 11,
   "metadata": {},
   "outputs": [
    {
     "name": "stdout",
     "output_type": "stream",
     "text": [
      "Your Datas Have been Extracted to csv.\n"
     ]
    }
   ],
   "source": [
    "saveToCSV()"
   ]
  },
  {
   "cell_type": "code",
   "execution_count": null,
   "metadata": {},
   "outputs": [],
   "source": [
    "quit()"
   ]
  },
  {
   "cell_type": "code",
   "execution_count": null,
   "metadata": {},
   "outputs": [],
   "source": []
  }
 ],
 "metadata": {
  "kernelspec": {
   "display_name": "Python 3",
   "language": "python",
   "name": "python3"
  },
  "language_info": {
   "codemirror_mode": {
    "name": "ipython",
    "version": 3
   },
   "file_extension": ".py",
   "mimetype": "text/x-python",
   "name": "python",
   "nbconvert_exporter": "python",
   "pygments_lexer": "ipython3",
   "version": "3.11.1"
  },
  "orig_nbformat": 4
 },
 "nbformat": 4,
 "nbformat_minor": 2
}
